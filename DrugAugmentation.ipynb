{
 "cells": [
  {
   "cell_type": "code",
   "execution_count": 13,
   "metadata": {},
   "outputs": [],
   "source": [
    "from DataTools import network_datatools as nw, ps_datatools as ps, DB_datatools as db"
   ]
  },
  {
   "cell_type": "code",
   "execution_count": 17,
   "metadata": {},
   "outputs": [],
   "source": [
    "[curs, conn] = db.db_connect('DataTools/drugbank_1_9.db')"
   ]
  },
  {
   "cell_type": "code",
   "execution_count": 4,
   "metadata": {},
   "outputs": [],
   "source": [
    "alias_list = nw.findaliases(ps.ps_read_entitylist('DataTools/CFS_entities.csv'))"
   ]
  },
  {
   "cell_type": "code",
   "execution_count": 5,
   "metadata": {},
   "outputs": [
    {
     "data": {
      "text/plain": [
       "'ACTH;adrenotropin;Acthon;procortan;ACTH vitoria;ACTH Lannacher;purified cortrophin gel;cortrophin gel ACTH;ACTH-80;ACTH;solacthyl;cortrophin;adrenocorticotropic hormone;ACTH gel;humactid;Acton prolongatum;Actrope;bird corticotropin;corticotropin;Acthar gel;Exactin;duracton-corticotropin carboxymethylcellulose;1,39 corticotrophin;Depo-ACTH;corticotropin hormone;cotrophin;adrenocorticotropin hormone;Acthelea;corticotropine;adrenocorticotrope hormone;Acethropan;ACTH Depot;cortilin;bird acth;Actonar;adrenal cortex trophic hormone;adrenocorticotrophin;corticotropic hormone;hp Acthar gel;Acetophran;Adactan;adrenocorticaltrophormon;porcine corticotropin;adrenal cortex tropic hormone;ACTH 40;Adrenomone;adrenocorticotropin;9002-60-2;humacthid;adrenal corticotropic hormone;cibacthen;Acortan prolongatum;reacthin;porcine acth;cortiphyson;acetylated corticotropin;adrenocorticotrophic hormone;Acortan;beta alanine 1 alpha 1 23nh2 acth;h.p. Acthar gel;corticotrophine;corticotrophin gelatin;corticotrophin;beta corticotropin;Acorto;Acthar;procortan forte;cortigel;s cortophin'"
      ]
     },
     "execution_count": 5,
     "metadata": {},
     "output_type": "execute_result"
    }
   ],
   "source": [
    "alias_list[0]"
   ]
  },
  {
   "cell_type": "code",
   "execution_count": 6,
   "metadata": {},
   "outputs": [
    {
     "data": {
      "text/plain": [
       "pandas.core.series.Series"
      ]
     },
     "execution_count": 6,
     "metadata": {},
     "output_type": "execute_result"
    }
   ],
   "source": [
    "type(alias_list)"
   ]
  },
  {
   "cell_type": "code",
   "execution_count": 14,
   "metadata": {},
   "outputs": [],
   "source": [
    "al = alias_list.tolist()"
   ]
  },
  {
   "cell_type": "code",
   "execution_count": 27,
   "metadata": {},
   "outputs": [
    {
     "data": {
      "text/plain": [
       "[('Hepatitis B Immune Globulin', '', 'HBsAg'),\n",
       " ('(3AR,6R,6AS)-6-((S)-((S)-CYCLOHEX-2-ENYL)(HYDROXY)METHYL)-6A-METHYL-4-OXO-HEXAHYDRO-2H-FURO[3,2-C]PYRROLE-6-CARBALDEHYDE',\n",
       "  '',\n",
       "  'Proteasome subunit alpha type-1'),\n",
       " ('(3AR,6R,6AS)-6-((S)-((S)-CYCLOHEX-2-ENYL)(HYDROXY)METHYL)-6A-METHYL-4-OXO-HEXAHYDRO-2H-FURO[3,2-C]PYRROLE-6-CARBALDEHYDE',\n",
       "  '',\n",
       "  'Proteasome subunit alpha type-2'),\n",
       " ('(3AR,6R,6AS)-6-((S)-((S)-CYCLOHEX-2-ENYL)(HYDROXY)METHYL)-6A-METHYL-4-OXO-HEXAHYDRO-2H-FURO[3,2-C]PYRROLE-6-CARBALDEHYDE',\n",
       "  '',\n",
       "  'Proteasome subunit alpha type-3'),\n",
       " ('(3AR,6R,6AS)-6-((S)-((S)-CYCLOHEX-2-ENYL)(HYDROXY)METHYL)-6A-METHYL-4-OXO-HEXAHYDRO-2H-FURO[3,2-C]PYRROLE-6-CARBALDEHYDE',\n",
       "  '',\n",
       "  'Proteasome subunit alpha type-4'),\n",
       " ('(3AR,6R,6AS)-6-((S)-((S)-CYCLOHEX-2-ENYL)(HYDROXY)METHYL)-6A-METHYL-4-OXO-HEXAHYDRO-2H-FURO[3,2-C]PYRROLE-6-CARBALDEHYDE',\n",
       "  '',\n",
       "  'Proteasome subunit alpha type-5'),\n",
       " ('(3AR,6R,6AS)-6-((S)-((S)-CYCLOHEX-2-ENYL)(HYDROXY)METHYL)-6A-METHYL-4-OXO-HEXAHYDRO-2H-FURO[3,2-C]PYRROLE-6-CARBALDEHYDE',\n",
       "  '',\n",
       "  'Proteasome subunit alpha type-6'),\n",
       " ('(3AR,6R,6AS)-6-((S)-((S)-CYCLOHEX-2-ENYL)(HYDROXY)METHYL)-6A-METHYL-4-OXO-HEXAHYDRO-2H-FURO[3,2-C]PYRROLE-6-CARBALDEHYDE',\n",
       "  '',\n",
       "  'Proteasome subunit alpha type-7'),\n",
       " ('(3AR,6R,6AS)-6-((S)-((S)-CYCLOHEX-2-ENYL)(HYDROXY)METHYL)-6A-METHYL-4-OXO-HEXAHYDRO-2H-FURO[3,2-C]PYRROLE-6-CARBALDEHYDE',\n",
       "  '',\n",
       "  'Proteasome subunit beta type-1'),\n",
       " ('(3AR,6R,6AS)-6-((S)-((S)-CYCLOHEX-2-ENYL)(HYDROXY)METHYL)-6A-METHYL-4-OXO-HEXAHYDRO-2H-FURO[3,2-C]PYRROLE-6-CARBALDEHYDE',\n",
       "  '',\n",
       "  'Proteasome subunit beta type-2'),\n",
       " ('(3AR,6R,6AS)-6-((S)-((S)-CYCLOHEX-2-ENYL)(HYDROXY)METHYL)-6A-METHYL-4-OXO-HEXAHYDRO-2H-FURO[3,2-C]PYRROLE-6-CARBALDEHYDE',\n",
       "  '',\n",
       "  'Proteasome subunit beta type-3'),\n",
       " ('(3AR,6R,6AS)-6-((S)-((S)-CYCLOHEX-2-ENYL)(HYDROXY)METHYL)-6A-METHYL-4-OXO-HEXAHYDRO-2H-FURO[3,2-C]PYRROLE-6-CARBALDEHYDE',\n",
       "  '',\n",
       "  'Proteasome subunit beta type-4'),\n",
       " ('(3AR,6R,6AS)-6-((S)-((S)-CYCLOHEX-2-ENYL)(HYDROXY)METHYL)-6A-METHYL-4-OXO-HEXAHYDRO-2H-FURO[3,2-C]PYRROLE-6-CARBALDEHYDE',\n",
       "  '',\n",
       "  'Proteasome subunit beta type-5'),\n",
       " ('(3AR,6R,6AS)-6-((S)-((S)-CYCLOHEX-2-ENYL)(HYDROXY)METHYL)-6A-METHYL-4-OXO-HEXAHYDRO-2H-FURO[3,2-C]PYRROLE-6-CARBALDEHYDE',\n",
       "  '',\n",
       "  'Proteasome subunit beta type-6'),\n",
       " ('(3AR,6R,6AS)-6-((S)-((S)-CYCLOHEX-2-ENYL)(HYDROXY)METHYL)-6A-METHYL-4-OXO-HEXAHYDRO-2H-FURO[3,2-C]PYRROLE-6-CARBALDEHYDE',\n",
       "  '',\n",
       "  'Proteasome subunit beta type-7')]"
      ]
     },
     "execution_count": 27,
     "metadata": {},
     "output_type": "execute_result"
    }
   ],
   "source": [
    "db.db_findrelations(curs,al[26])"
   ]
  },
  {
   "cell_type": "code",
   "execution_count": 18,
   "metadata": {},
   "outputs": [
    {
     "data": {
      "text/plain": [
       "<sqlite3.Cursor at 0x1645bc49960>"
      ]
     },
     "execution_count": 18,
     "metadata": {},
     "output_type": "execute_result"
    }
   ],
   "source": [
    "curs"
   ]
  },
  {
   "cell_type": "code",
   "execution_count": 31,
   "metadata": {},
   "outputs": [
    {
     "data": {
      "text/plain": [
       "['IL23;interleukin',\n",
       " '23;IL23;interleukin-23',\n",
       " 'receptor',\n",
       " 'ligand',\n",
       " 'activity;interleukin-23',\n",
       " 'receptor',\n",
       " 'ligand;interleukin',\n",
       " 'IL23;interleukin-23',\n",
       " 'receptor',\n",
       " 'ligands']"
      ]
     },
     "execution_count": 31,
     "metadata": {},
     "output_type": "execute_result"
    }
   ],
   "source": [
    "alias_list[26].split()"
   ]
  },
  {
   "cell_type": "code",
   "execution_count": null,
   "metadata": {},
   "outputs": [],
   "source": []
  }
 ],
 "metadata": {
  "kernelspec": {
   "display_name": "Python 3",
   "language": "python",
   "name": "python3"
  },
  "language_info": {
   "codemirror_mode": {
    "name": "ipython",
    "version": 3
   },
   "file_extension": ".py",
   "mimetype": "text/x-python",
   "name": "python",
   "nbconvert_exporter": "python",
   "pygments_lexer": "ipython3",
   "version": "3.6.1"
  }
 },
 "nbformat": 4,
 "nbformat_minor": 2
}

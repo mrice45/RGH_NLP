{
 "cells": [
  {
   "cell_type": "code",
   "execution_count": 1,
   "metadata": {
    "collapsed": false
   },
   "outputs": [],
   "source": [
    "import re\n",
    "import pandas as pd\n",
    "import numpy as np\n",
    "import Wizard as oz"
   ]
  },
  {
   "cell_type": "code",
   "execution_count": 2,
   "metadata": {
    "collapsed": false
   },
   "outputs": [
    {
     "name": "stdout",
     "output_type": "stream",
     "text": [
      "Enter Filename:Test.csv\n"
     ]
    }
   ],
   "source": [
    "network_csv = pd.read_csv(input('Enter Filename:'))  #Read in file,error checking will come later. For now, I trust me."
   ]
  },
  {
   "cell_type": "code",
   "execution_count": 3,
   "metadata": {
    "collapsed": false
   },
   "outputs": [],
   "source": [
    "#Conform Data\n",
    "network = pd.DataFrame(columns=['Source', 'Target', 'Data'])\n",
    "\n",
    "for i in network_csv.index:\n",
    "    strLine = network_csv.iloc[i][0]\n",
    "    m = re.search('(?<=: ).*', strLine)\n",
    "    strLine = m.group()\n",
    "    m = re.search('.*(?= --)', strLine)\n",
    "    df_source = m.group()\n",
    "    m = re.search('(?<=[>|] ).*', strLine)\n",
    "    df_target = m.group()\n",
    "    df_data = network_csv.iloc[i][1]\n",
    "\n",
    "    network.loc[i] = [df_source, df_target, df_data]"
   ]
  },
  {
   "cell_type": "code",
   "execution_count": 4,
   "metadata": {
    "collapsed": false,
    "scrolled": true
   },
   "outputs": [
    {
     "data": {
      "text/html": [
       "<div>\n",
       "<table border=\"1\" class=\"dataframe\">\n",
       "  <thead>\n",
       "    <tr style=\"text-align: right;\">\n",
       "      <th></th>\n",
       "      <th>Source</th>\n",
       "      <th>Target</th>\n",
       "      <th>Data</th>\n",
       "    </tr>\n",
       "  </thead>\n",
       "  <tbody>\n",
       "    <tr>\n",
       "      <th>0</th>\n",
       "      <td>CRH</td>\n",
       "      <td>cortisol</td>\n",
       "      <td>ID{10000000,8802722=Placental} ID{1392=CRH} ma...</td>\n",
       "    </tr>\n",
       "    <tr>\n",
       "      <th>1</th>\n",
       "      <td>ACTH</td>\n",
       "      <td>cortisol</td>\n",
       "      <td>Besides, different types of ID{9000000,9016100...</td>\n",
       "    </tr>\n",
       "    <tr>\n",
       "      <th>2</th>\n",
       "      <td>cortisol</td>\n",
       "      <td>ACTH</td>\n",
       "      <td>Finally, it has been previously shown that ID{...</td>\n",
       "    </tr>\n",
       "    <tr>\n",
       "      <th>3</th>\n",
       "      <td>cortisol</td>\n",
       "      <td>CRH</td>\n",
       "      <td>Blocking ID{1392=CRH}-stimulated increases in ...</td>\n",
       "    </tr>\n",
       "    <tr>\n",
       "      <th>4</th>\n",
       "      <td>cortisol</td>\n",
       "      <td>CRH</td>\n",
       "      <td>Blocking ID{1392=CRH}-stimulated increases in ...</td>\n",
       "    </tr>\n",
       "    <tr>\n",
       "      <th>5</th>\n",
       "      <td>ACTH</td>\n",
       "      <td>CRH</td>\n",
       "      <td>Blocking ID{1392=CRH}-stimulated increases in ...</td>\n",
       "    </tr>\n",
       "    <tr>\n",
       "      <th>6</th>\n",
       "      <td>CRH</td>\n",
       "      <td>ACTH</td>\n",
       "      <td>ID{13000016=Stress} induces the release of ID{...</td>\n",
       "    </tr>\n",
       "    <tr>\n",
       "      <th>7</th>\n",
       "      <td>cortisol</td>\n",
       "      <td>CRH</td>\n",
       "      <td>While ID{1100010=cortisol} suppresses the secr...</td>\n",
       "    </tr>\n",
       "    <tr>\n",
       "      <th>8</th>\n",
       "      <td>cortisol</td>\n",
       "      <td>ACTH</td>\n",
       "      <td>ID{1100010=Cortisol} acts via feedback inhibit...</td>\n",
       "    </tr>\n",
       "    <tr>\n",
       "      <th>9</th>\n",
       "      <td>ACTH</td>\n",
       "      <td>cortisol</td>\n",
       "      <td>ID{1392=Corticotropin-releasing factor} is a I...</td>\n",
       "    </tr>\n",
       "    <tr>\n",
       "      <th>10</th>\n",
       "      <td>CRH</td>\n",
       "      <td>cortisol</td>\n",
       "      <td>Nevertheless, ID{10000000,8802722=placental} I...</td>\n",
       "    </tr>\n",
       "  </tbody>\n",
       "</table>\n",
       "</div>"
      ],
      "text/plain": [
       "      Source    Target                                               Data\n",
       "0        CRH  cortisol  ID{10000000,8802722=Placental} ID{1392=CRH} ma...\n",
       "1       ACTH  cortisol  Besides, different types of ID{9000000,9016100...\n",
       "2   cortisol      ACTH  Finally, it has been previously shown that ID{...\n",
       "3   cortisol       CRH  Blocking ID{1392=CRH}-stimulated increases in ...\n",
       "4   cortisol       CRH  Blocking ID{1392=CRH}-stimulated increases in ...\n",
       "5       ACTH       CRH  Blocking ID{1392=CRH}-stimulated increases in ...\n",
       "6        CRH      ACTH  ID{13000016=Stress} induces the release of ID{...\n",
       "7   cortisol       CRH  While ID{1100010=cortisol} suppresses the secr...\n",
       "8   cortisol      ACTH  ID{1100010=Cortisol} acts via feedback inhibit...\n",
       "9       ACTH  cortisol  ID{1392=Corticotropin-releasing factor} is a I...\n",
       "10       CRH  cortisol  Nevertheless, ID{10000000,8802722=placental} I..."
      ]
     },
     "execution_count": 4,
     "metadata": {},
     "output_type": "execute_result"
    }
   ],
   "source": [
    "network"
   ]
  },
  {
   "cell_type": "code",
   "execution_count": 5,
   "metadata": {
    "collapsed": true
   },
   "outputs": [],
   "source": [
    "#Consolodate Duplicates and  Data\n",
    "network = network.groupby(['Source', 'Target'])['Data'].apply(' '.join).reset_index()\n",
    "for idx, row in network.iterrows():\n",
    "    strLine = row.Data\n",
    "    strLine = re.sub('\\|',' ',strLine)\n",
    "    strLine = re.sub('\\\"', '', strLine)\n",
    "    strLine = re.sub('  ', ' ', strLine)\n",
    "    row.Data = strLine"
   ]
  },
  {
   "cell_type": "code",
   "execution_count": 6,
   "metadata": {
    "collapsed": false
   },
   "outputs": [
    {
     "data": {
      "text/html": [
       "<div>\n",
       "<table border=\"1\" class=\"dataframe\">\n",
       "  <thead>\n",
       "    <tr style=\"text-align: right;\">\n",
       "      <th></th>\n",
       "      <th>Source</th>\n",
       "      <th>Target</th>\n",
       "      <th>Data</th>\n",
       "    </tr>\n",
       "  </thead>\n",
       "  <tbody>\n",
       "    <tr>\n",
       "      <th>0</th>\n",
       "      <td>ACTH</td>\n",
       "      <td>CRH</td>\n",
       "      <td>Blocking ID{1392=CRH}-stimulated increases in ...</td>\n",
       "    </tr>\n",
       "    <tr>\n",
       "      <th>1</th>\n",
       "      <td>ACTH</td>\n",
       "      <td>cortisol</td>\n",
       "      <td>Besides, different types of ID{9000000,9016100...</td>\n",
       "    </tr>\n",
       "    <tr>\n",
       "      <th>2</th>\n",
       "      <td>CRH</td>\n",
       "      <td>ACTH</td>\n",
       "      <td>ID{13000016=Stress} induces the release of ID{...</td>\n",
       "    </tr>\n",
       "    <tr>\n",
       "      <th>3</th>\n",
       "      <td>CRH</td>\n",
       "      <td>cortisol</td>\n",
       "      <td>ID{10000000,8802722=Placental} ID{1392=CRH} ma...</td>\n",
       "    </tr>\n",
       "    <tr>\n",
       "      <th>4</th>\n",
       "      <td>cortisol</td>\n",
       "      <td>ACTH</td>\n",
       "      <td>Finally, it has been previously shown that ID{...</td>\n",
       "    </tr>\n",
       "    <tr>\n",
       "      <th>5</th>\n",
       "      <td>cortisol</td>\n",
       "      <td>CRH</td>\n",
       "      <td>Blocking ID{1392=CRH}-stimulated increases in ...</td>\n",
       "    </tr>\n",
       "  </tbody>\n",
       "</table>\n",
       "</div>"
      ],
      "text/plain": [
       "     Source    Target                                               Data\n",
       "0      ACTH       CRH  Blocking ID{1392=CRH}-stimulated increases in ...\n",
       "1      ACTH  cortisol  Besides, different types of ID{9000000,9016100...\n",
       "2       CRH      ACTH  ID{13000016=Stress} induces the release of ID{...\n",
       "3       CRH  cortisol  ID{10000000,8802722=Placental} ID{1392=CRH} ma...\n",
       "4  cortisol      ACTH  Finally, it has been previously shown that ID{...\n",
       "5  cortisol       CRH  Blocking ID{1392=CRH}-stimulated increases in ..."
      ]
     },
     "execution_count": 6,
     "metadata": {},
     "output_type": "execute_result"
    }
   ],
   "source": [
    "network"
   ]
  },
  {
   "cell_type": "code",
   "execution_count": 7,
   "metadata": {
    "collapsed": false
   },
   "outputs": [],
   "source": [
    "splitter = oz.Splitter()\n",
    "tagger = oz.POSTagger()\n",
    "dict_tag = oz.DictionaryTagger(['postive.yml','negative.yml'])"
   ]
  },
  {
   "cell_type": "code",
   "execution_count": 8,
   "metadata": {
    "collapsed": false
   },
   "outputs": [],
   "source": [
    "#Sentiment Scoring, possibly add weight to individual words [promote, inhibit]\n",
    "score = []\n",
    "for chunk in network['Data']:\n",
    "    split_sentences = splitter.split(chunk)\n",
    "    pos_sentences = tagger.pos_tag(split_sentences)\n",
    "    tagged_sentences = dict_tag.tag(pos_sentences)\n",
    "    relationship_score = oz.sentiment_score(tagged_sentences)\n",
    "    \n",
    "    score.append(relationship_score)"
   ]
  },
  {
   "cell_type": "code",
   "execution_count": 9,
   "metadata": {
    "collapsed": false
   },
   "outputs": [],
   "source": [
    "network['Sentiment Score'] = score\n",
    "polarity = []\n",
    "for sc in score:\n",
    "    if sc > 0:\n",
    "        polarity.append('Positive')\n",
    "    elif sc < 0:\n",
    "        polarity.append('Negative')\n",
    "    else:\n",
    "        polarity.append('Unknown')\n",
    "\n",
    "network['Polarity'] = polarity\n",
    "        "
   ]
  },
  {
   "cell_type": "code",
   "execution_count": 10,
   "metadata": {
    "collapsed": false
   },
   "outputs": [
    {
     "data": {
      "text/html": [
       "<div>\n",
       "<table border=\"1\" class=\"dataframe\">\n",
       "  <thead>\n",
       "    <tr style=\"text-align: right;\">\n",
       "      <th></th>\n",
       "      <th>Source</th>\n",
       "      <th>Target</th>\n",
       "      <th>Data</th>\n",
       "      <th>Sentiment Score</th>\n",
       "      <th>Polarity</th>\n",
       "    </tr>\n",
       "  </thead>\n",
       "  <tbody>\n",
       "    <tr>\n",
       "      <th>0</th>\n",
       "      <td>ACTH</td>\n",
       "      <td>CRH</td>\n",
       "      <td>Blocking ID{1392=CRH}-stimulated increases in ...</td>\n",
       "      <td>3.0</td>\n",
       "      <td>Positive</td>\n",
       "    </tr>\n",
       "    <tr>\n",
       "      <th>1</th>\n",
       "      <td>ACTH</td>\n",
       "      <td>cortisol</td>\n",
       "      <td>Besides, different types of ID{9000000,9016100...</td>\n",
       "      <td>95.0</td>\n",
       "      <td>Positive</td>\n",
       "    </tr>\n",
       "    <tr>\n",
       "      <th>2</th>\n",
       "      <td>CRH</td>\n",
       "      <td>ACTH</td>\n",
       "      <td>ID{13000016=Stress} induces the release of ID{...</td>\n",
       "      <td>39.0</td>\n",
       "      <td>Positive</td>\n",
       "    </tr>\n",
       "    <tr>\n",
       "      <th>3</th>\n",
       "      <td>CRH</td>\n",
       "      <td>cortisol</td>\n",
       "      <td>ID{10000000,8802722=Placental} ID{1392=CRH} ma...</td>\n",
       "      <td>110.0</td>\n",
       "      <td>Positive</td>\n",
       "    </tr>\n",
       "    <tr>\n",
       "      <th>4</th>\n",
       "      <td>cortisol</td>\n",
       "      <td>ACTH</td>\n",
       "      <td>Finally, it has been previously shown that ID{...</td>\n",
       "      <td>-26.0</td>\n",
       "      <td>Negative</td>\n",
       "    </tr>\n",
       "    <tr>\n",
       "      <th>5</th>\n",
       "      <td>cortisol</td>\n",
       "      <td>CRH</td>\n",
       "      <td>Blocking ID{1392=CRH}-stimulated increases in ...</td>\n",
       "      <td>11.0</td>\n",
       "      <td>Positive</td>\n",
       "    </tr>\n",
       "  </tbody>\n",
       "</table>\n",
       "</div>"
      ],
      "text/plain": [
       "     Source    Target                                               Data  \\\n",
       "0      ACTH       CRH  Blocking ID{1392=CRH}-stimulated increases in ...   \n",
       "1      ACTH  cortisol  Besides, different types of ID{9000000,9016100...   \n",
       "2       CRH      ACTH  ID{13000016=Stress} induces the release of ID{...   \n",
       "3       CRH  cortisol  ID{10000000,8802722=Placental} ID{1392=CRH} ma...   \n",
       "4  cortisol      ACTH  Finally, it has been previously shown that ID{...   \n",
       "5  cortisol       CRH  Blocking ID{1392=CRH}-stimulated increases in ...   \n",
       "\n",
       "   Sentiment Score  Polarity  \n",
       "0              3.0  Positive  \n",
       "1             95.0  Positive  \n",
       "2             39.0  Positive  \n",
       "3            110.0  Positive  \n",
       "4            -26.0  Negative  \n",
       "5             11.0  Positive  "
      ]
     },
     "execution_count": 10,
     "metadata": {},
     "output_type": "execute_result"
    }
   ],
   "source": [
    "network"
   ]
  },
  {
   "cell_type": "code",
   "execution_count": 11,
   "metadata": {
    "collapsed": false
   },
   "outputs": [],
   "source": [
    "split_sentences = splitter.split(network.Data[0])\n",
    "pos_sentences = tagger.pos_tag(split_sentences)\n",
    "tagged_sentences = dict_tag.tag(pos_sentences)\n",
    "relationship_score = oz.sentiment_score(tagged_sentences)"
   ]
  },
  {
   "cell_type": "code",
   "execution_count": 44,
   "metadata": {
    "collapsed": false
   },
   "outputs": [],
   "source": [
    " tester = tagged_sentences[0]"
   ]
  },
  {
   "cell_type": "code",
   "execution_count": null,
   "metadata": {
    "collapsed": false
   },
   "outputs": [],
   "source": []
  },
  {
   "cell_type": "code",
   "execution_count": null,
   "metadata": {
    "collapsed": true
   },
   "outputs": [],
   "source": []
  }
 ],
 "metadata": {
  "kernelspec": {
   "display_name": "Python 3",
   "language": "python",
   "name": "python3"
  },
  "language_info": {
   "codemirror_mode": {
    "name": "ipython",
    "version": 3
   },
   "file_extension": ".py",
   "mimetype": "text/x-python",
   "name": "python",
   "nbconvert_exporter": "python",
   "pygments_lexer": "ipython3",
   "version": "3.6.0"
  }
 },
 "nbformat": 4,
 "nbformat_minor": 2
}

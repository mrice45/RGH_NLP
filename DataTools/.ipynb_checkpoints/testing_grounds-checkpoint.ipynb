{
 "cells": [
  {
   "cell_type": "code",
   "execution_count": 2,
   "metadata": {},
   "outputs": [],
   "source": [
    "import pandas as pd"
   ]
  },
  {
   "cell_type": "code",
   "execution_count": 3,
   "metadata": {},
   "outputs": [],
   "source": [
    "network = pd.read_csv('CFS_entities.csv')"
   ]
  },
  {
   "cell_type": "code",
   "execution_count": 7,
   "metadata": {},
   "outputs": [
    {
     "data": {
      "text/plain": [
       "0     adrenotropin;Acthon;procortan;ACTH vitoria;ACT...\n",
       "1     activin;activins;activin complexes;activin com...\n",
       "2     copeptin;vasopressin-neurophysin 2;vasopin;pre...\n",
       "3     plasma B-cell function;pre-B cell function;pre...\n",
       "4     11beta,17,21-trihydroxy-Pregn-4-ene-3,20-dione...\n",
       "5     adrenocorticotrophin-releasing hormone;preproc...\n",
       "6     CXCL8;lung giant cell carcinoma-derived chemot...\n",
       "7     dihydroxyphenylethylamine;inopin;4-(aminoethyl...\n",
       "8     Renalina;adrenalin in oil;Supranol;L-adrenalin...\n",
       "9     oestrogen;[14C]oestrogen;estrogen;estrogenic h...\n",
       "10    ethyl alcohol & water, 80%;alcohol vapour;Grai...\n",
       "11    follicular-stimulating hormones;human follitro...\n",
       "12    follistatin isoform FST317;AL033346;activin-bi...\n",
       "13    growth hormone fraction;GH-N;somatotropin 1;so...\n",
       "14    (2S)-2-Aminopentanedioate;L-alpha-Aminoglutara...\n",
       "15    HH12;Gonadotrophin-releasing factor;GnRH-assoc...\n",
       "16    gonadotropin-releasing hormone 2;5-Histidyl-7-...\n",
       "17    gamma interferon;oh 6000;IFG;interferon gamma ...\n",
       "18    IGF-I;mechano-growth factor;insulin-like growt...\n",
       "19    gamma immunoglobulin G;Ig G;IgG;immunoglobulin...\n",
       "20    interleukin IL10X;IL10R ligand;interleukin-10;...\n",
       "21    P600;interleukin 13;interleukin IL13_HUMAN;int...\n",
       "22    interleukin IL-17A;CTLA8;CTLA-8;interleukin 17...\n",
       "23    Interleukin-1 alpha subunit;IL1alpha;hemopoiet...\n",
       "24    preinterleukin 1 beta;catabolin;interleukin IL...\n",
       "25    interleukin-2 receptor ligand;involved in regu...\n",
       "26    interleukin 23;IL23;interleukin-23 receptor li...\n",
       "27    interleukin-4;IGG1 induction factor;B_cell sti...\n",
       "28    B-cell differentiation factor;CDF;interleukin-...\n",
       "29    folliculostatins;inhibin complex;inhibin compl...\n",
       "30    insulin-dependent diabetes mellitus QTL 2;OTTH...\n",
       "31    KISS I;HH13;Malignant melanoma metastasis-supp...\n",
       "32    thyro-4;587-29-1;Thyratabs;thyrax duotab;tirox...\n",
       "33    lutotropin;ovulating hormone;human luteinizing...\n",
       "34    compound granular corpuscles;microglial cell;m...\n",
       "35    natural killer cells;NK cells;N-K cells;cell s...\n",
       "36    oxo-Amidogen;16355-69-4;reactive nitrogen radi...\n",
       "37    norepinephrine;Norepirenamine;(+/-)-Noradrenal...\n",
       "38    oxytocine;OT-GKR;oxytocin, prepro- (neurophysi...\n",
       "39    Progesterol;1783-95-5;esolut;lutogynestryl fue...\n",
       "40    Pghs2;cyclooxygenase-2;prostaglandin G/H synth...\n",
       "41    T regulatory lymphocytes;suppressor T lymphocy...\n",
       "42    SS-14;somatostatin-14;Somatotropin release inh...\n",
       "43                                      stress;stresses\n",
       "44    Tgfb-1;TGF-beta 1;transforming growth factor b...\n",
       "45    type 1 helper cells;type 1 helper T cells;T he...\n",
       "46    Th17 cell;Th17 T lymphocyte;T helper 17 Th17 c...\n",
       "47    T helper 2 cell;type 2 helper T cell;helper ce...\n",
       "48    pre-tumor necrosis factor;TNF-alpha;tumour nec...\n",
       "49    tumor necrosis factor (ligand) superfamily, me...\n",
       "50    thyrotropin-releasing hormone;TSH-releasing ho...\n",
       "51    Levothyroxine monosodium salt;3,5,3'-Triiodoth...\n",
       "52    dermathycin;thyroid stimulating hormones;thyro...\n",
       "Name: Alias, dtype: object"
      ]
     },
     "execution_count": 7,
     "metadata": {},
     "output_type": "execute_result"
    }
   ],
   "source": [
    "network"
   ]
  },
  {
   "cell_type": "code",
   "execution_count": 7,
   "metadata": {},
   "outputs": [],
   "source": []
  },
  {
   "cell_type": "code",
   "execution_count": null,
   "metadata": {},
   "outputs": [],
   "source": []
  }
 ],
 "metadata": {
  "kernelspec": {
   "display_name": "Python 3",
   "language": "python",
   "name": "python3"
  },
  "language_info": {
   "codemirror_mode": {
    "name": "ipython",
    "version": 3
   },
   "file_extension": ".py",
   "mimetype": "text/x-python",
   "name": "python",
   "nbconvert_exporter": "python",
   "pygments_lexer": "ipython3",
   "version": "3.6.1"
  }
 },
 "nbformat": 4,
 "nbformat_minor": 1
}
